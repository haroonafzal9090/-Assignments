{
 "cells": [
  {
   "cell_type": "code",
   "execution_count": null,
   "id": "aebe4413",
   "metadata": {},
   "outputs": [
    {
     "name": "stdout",
     "output_type": "stream",
     "text": [
      "Enter Your Name:ALEX\n",
      "Welcome To Your Bank Account 🤗\n",
      "Enter 1 to check balance,\n",
      "Enter 2 to desposit,\n",
      "Enter 3 to withdraw,\n",
      "Enter 4 to quit.\n",
      "2\n",
      "Enter Amount To Deposit:199\n",
      "HelloALEX Your Current Balance after deposit is:199\n",
      "Enter 1 to check balance,\n",
      "Enter 2 to desposit,\n",
      "Enter 3 to withdraw,\n",
      "Enter 4 to quit.\n"
     ]
    }
   ],
   "source": [
    "class Bank_Acc:\n",
    "    def __init__(self, name):\n",
    "        self.name = name\n",
    "        self.balance = 0\n",
    "    def welcome(self):\n",
    "        print(f\"Welcome To Your Bank Account \\U0001F917\")\n",
    "        print(self.account_info())\n",
    "    def account_info(self):\n",
    "        disp = (\"Enter 1 to check balance,\\nEnter 2 to desposit,\\nEnter 3 to withdraw,\\nEnter 4 to quit.\")\n",
    "        return disp\n",
    "    def printcurrentbalance(self):\n",
    "        disp = (f\"Your Current Balance is:{self.balance}\")\n",
    "        return disp\n",
    "    def deposit(self, d_amount):\n",
    "        self.balance += d_amount\n",
    "        print (f\"Hello{self.name} Your Current Balance after deposit is:{self.balance}\")\n",
    "    def withdraw(self, w_amount):\n",
    "        if (self.balance >= w_amount):\n",
    "            self.balance = self.balance - w_amount\n",
    "            print(f\"The Withdraw Is Successful and Your Remaining Balance is:{self.balance}\")\n",
    "        else:\n",
    "            print(f\"Insufficient Balance:{self.balance}\")\n",
    "            \n",
    "name = input(\"Enter Your Name:\")\n",
    "bank_account = Bank_Acc(name)\n",
    "bank_account.welcome()\n",
    "while True:\n",
    "    user_requirement = int(input())\n",
    "    if user_requirement == 1:\n",
    "        print(bank_account.printcurrentbalance())\n",
    "    if user_requirement == 2:\n",
    "        user_amount_d = int(input(\"Enter Amount To Deposit:\"))\n",
    "        bank_account.deposit(user_amount_d)\n",
    "    if user_requirement == 3:\n",
    "        user_amount_w = int(input(\"Enter Amount To Withdraw:\"))\n",
    "        bank_account.withdraw(user_amount_w)\n",
    "    if user_requirement == 4:\n",
    "        break\n",
    "    print(bank_account.account_info())    "
   ]
  },
  {
   "cell_type": "code",
   "execution_count": 3,
   "id": "4a866a5a",
   "metadata": {},
   "outputs": [
    {
     "name": "stdout",
     "output_type": "stream",
     "text": [
      "🤗\n"
     ]
    }
   ],
   "source": [
    "print(\"\\U0001F917\")"
   ]
  },
  {
   "cell_type": "code",
   "execution_count": 1,
   "id": "dc8585e0",
   "metadata": {},
   "outputs": [
    {
     "name": "stdout",
     "output_type": "stream",
     "text": [
      "8\n",
      "6\n"
     ]
    }
   ],
   "source": [
    "x = 6\n",
    "def add():\n",
    "    x = 3\n",
    "    x = x + 5\n",
    "    print(x)\n",
    "add()\n",
    "print(x)"
   ]
  },
  {
   "cell_type": "code",
   "execution_count": 2,
   "id": "1b7391b3",
   "metadata": {},
   "outputs": [
    {
     "name": "stdout",
     "output_type": "stream",
     "text": [
      "Hello, world\n"
     ]
    }
   ],
   "source": [
    "print(\"hello, world\".capitalize())"
   ]
  },
  {
   "cell_type": "code",
   "execution_count": 1,
   "id": "1db671ce",
   "metadata": {},
   "outputs": [
    {
     "ename": "TypeError",
     "evalue": "__init__() missing 1 required positional argument: 'name'",
     "output_type": "error",
     "traceback": [
      "\u001b[1;31m---------------------------------------------------------------------------\u001b[0m",
      "\u001b[1;31mTypeError\u001b[0m                                 Traceback (most recent call last)",
      "Input \u001b[1;32mIn [1]\u001b[0m, in \u001b[0;36m<cell line: 25>\u001b[1;34m()\u001b[0m\n\u001b[0;32m     22\u001b[0m         \u001b[38;5;28;01melse\u001b[39;00m:\n\u001b[0;32m     23\u001b[0m             \u001b[38;5;28mprint\u001b[39m(\u001b[38;5;124mf\u001b[39m\u001b[38;5;124m\"\u001b[39m\u001b[38;5;124mInsufficient Balance:\u001b[39m\u001b[38;5;132;01m{\u001b[39;00m\u001b[38;5;28mself\u001b[39m\u001b[38;5;241m.\u001b[39mbalance\u001b[38;5;132;01m}\u001b[39;00m\u001b[38;5;124m\"\u001b[39m)\n\u001b[1;32m---> 25\u001b[0m bank_account \u001b[38;5;241m=\u001b[39m \u001b[43mBank_Acc\u001b[49m\u001b[43m(\u001b[49m\u001b[43m)\u001b[49m\n\u001b[0;32m     26\u001b[0m bank_account\u001b[38;5;241m.\u001b[39mwelcome()\n\u001b[0;32m     27\u001b[0m \u001b[38;5;28;01mwhile\u001b[39;00m \u001b[38;5;28;01mTrue\u001b[39;00m:\n",
      "\u001b[1;31mTypeError\u001b[0m: __init__() missing 1 required positional argument: 'name'"
     ]
    }
   ],
   "source": [
    "class Bank_Acc:\n",
    "    def __init__(self, name):\n",
    "        self.name = \"\"\n",
    "        self.balance = 0\n",
    "    def welcome(self):\n",
    "        print(f\"Welcome To Your Bank Account \")\n",
    "        name = input(\"Enter Your Name:\")\n",
    "        print(self.account_info())\n",
    "    def account_info(self):\n",
    "        disp = (\"Enter 1 to check balance,\\nEnter 2 to desposit,\\nEnter 3 to withdraw,\\nEnter 4 to quit.\")\n",
    "        return disp\n",
    "    def printcurrentbalance(self):\n",
    "        disp = (f\"Your Current Balance is:{self.balance}\")\n",
    "        return disp\n",
    "    def deposit(self, d_amount):\n",
    "        self.balance += d_amount\n",
    "        print (f\"Hello{self.name} Your Current Balance after deposit is:{self.balance}\")\n",
    "    def withdraw(self, w_amount):\n",
    "        if (self.balance >= w_amount):\n",
    "            self.balance = self.balance - w_amount\n",
    "            print(f\"The Withdraw Is Successful and Your Remaining Balance is:{self.balance}\")\n",
    "        else:\n",
    "            print(f\"Insufficient Balance:{self.balance}\")\n",
    "            \n",
    "bank_account = Bank_Acc()\n",
    "bank_account.welcome()\n",
    "while True:\n",
    "    user_requirement = int(input())\n",
    "    if user_requirement == 1:\n",
    "        print(bank_account.printcurrentbalance())\n",
    "    if user_requirement == 2:\n",
    "        user_amount_d = int(input(\"Enter Amount To Deposit:\"))\n",
    "        bank_account.deposit(user_amount_d)\n",
    "    if user_requirement == 3:\n",
    "        user_amount_w = int(input(\"Enter Amount To Withdraw:\"))\n",
    "        bank_account.withdraw(user_amount_w)\n",
    "    if user_requirement == 4:\n",
    "        break\n",
    "    print(bank_account.account_info())    "
   ]
  },
  {
   "cell_type": "code",
   "execution_count": 8,
   "id": "5e1bfacb",
   "metadata": {},
   "outputs": [
    {
     "ename": "IndentationError",
     "evalue": "expected an indented block (1088758626.py, line 27)",
     "output_type": "error",
     "traceback": [
      "\u001b[1;36m  Input \u001b[1;32mIn [8]\u001b[1;36m\u001b[0m\n\u001b[1;33m    user_query == 1:\u001b[0m\n\u001b[1;37m    ^\u001b[0m\n\u001b[1;31mIndentationError\u001b[0m\u001b[1;31m:\u001b[0m expected an indented block\n"
     ]
    }
   ],
   "source": [
    "class Bank:\n",
    "    def __init__(self, name):\n",
    "        self.name = name\n",
    "        self.total_amount = amount\n",
    "    def welcome(self):\n",
    "        print(\"Welcome To Your Bank Account.\")\n",
    "        print(self.disp_inst())\n",
    "    def disp_inst(self):\n",
    "        print(\"Enter 1 to check balance/nEnter 2 to deposit/nEnter 3 to withdraw/nEnter 4 to quit\")\n",
    "    def printcurrentbalance(self):\n",
    "        print(f\"Your Current Balance is:{self.total_amount}\")    \n",
    "    def deposit(self, dep_a):\n",
    "        self.total_amount += dep_a\n",
    "        print(f\"Your Current Balance After Deposit is:{self.total_amount}\")\n",
    "    def withdraw(self, with_a):\n",
    "        if (self.total_amount >= with_a):\n",
    "            self.total_amount - with_a\n",
    "            print(f\"The Withdraw Is Successful and Your Remaining Balance is:{self.total_amount}\")\n",
    "        else:\n",
    "            print(\"No\")\n",
    "              \n",
    "user_name = input(\"Enter Your Name:\")\n",
    "bank_acc = Bank(user_name)\n",
    "bank_acc.welcome()\n",
    "while True:\n",
    "    if user_query == int(input()):\n",
    "    user_query == 1:\n",
    "        print(bank_acc.printcurrentbalance())\n",
    "              if user_query == 2:\n",
    "              user_amount_d = int(input(\"Enter Amount To Deposit:\"))\n",
    "              bank_acc.deposit(user_amount_d)\n",
    "              if user_query == 3:\n",
    "              user_amount_w = int(input(\"Enter Amount To Withdraw:\"))\n",
    "              bank_acc.withdraw(user_amount_w)\n",
    "              if user_query == 4:\n",
    "              break\n",
    "              print(bank_acc.disp_inst())   \n",
    "              \n",
    "        \n",
    "        "
   ]
  },
  {
   "cell_type": "code",
   "execution_count": null,
   "id": "7c389d2a",
   "metadata": {},
   "outputs": [],
   "source": []
  }
 ],
 "metadata": {
  "kernelspec": {
   "display_name": "Python 3 (ipykernel)",
   "language": "python",
   "name": "python3"
  },
  "language_info": {
   "codemirror_mode": {
    "name": "ipython",
    "version": 3
   },
   "file_extension": ".py",
   "mimetype": "text/x-python",
   "name": "python",
   "nbconvert_exporter": "python",
   "pygments_lexer": "ipython3",
   "version": "3.9.12"
  }
 },
 "nbformat": 4,
 "nbformat_minor": 5
}
