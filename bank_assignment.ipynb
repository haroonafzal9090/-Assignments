{
 "cells": [
  {
   "cell_type": "code",
   "execution_count": null,
   "id": "aebe4413",
   "metadata": {},
   "outputs": [
    {
     "name": "stdout",
     "output_type": "stream",
     "text": [
      "Enter Your Name:ALEX\n",
      "Welcome To Your Bank Account 🤗\n",
      "Enter 1 to check balance,\n",
      "Enter 2 to desposit,\n",
      "Enter 3 to withdraw,\n",
      "Enter 4 to quit.\n",
      "2\n",
      "Enter Amount To Deposit:199\n",
      "HelloALEX Your Current Balance after deposit is:199\n",
      "Enter 1 to check balance,\n",
      "Enter 2 to desposit,\n",
      "Enter 3 to withdraw,\n",
      "Enter 4 to quit.\n"
     ]
    }
   ],
   "source": [
    "class Bank_Acc:\n",
    "    def __init__(self, name):\n",
    "        self.name = name\n",
    "        self.balance = 0\n",
    "    def welcome(self):\n",
    "        print(f\"Welcome To Your Bank Account \\U0001F917\")\n",
    "        print(self.account_info())\n",
    "    def account_info(self):\n",
    "        disp = (\"Enter 1 to check balance,\\nEnter 2 to desposit,\\nEnter 3 to withdraw,\\nEnter 4 to quit.\")\n",
    "        return disp\n",
    "    def printcurrentbalance(self):\n",
    "        disp = (f\"Your Current Balance is:{self.balance}\")\n",
    "        return disp\n",
    "    def deposit(self, d_amount):\n",
    "        self.balance += d_amount\n",
    "        print (f\"Hello{self.name} Your Current Balance after deposit is:{self.balance}\")\n",
    "    def withdraw(self, w_amount):\n",
    "        if (self.balance >= w_amount):\n",
    "            self.balance = self.balance - w_amount\n",
    "            print(f\"The Withdraw Is Successful and Your Remaining Balance is:{self.balance}\")\n",
    "        else:\n",
    "            print(f\"Insufficient Balance:{self.balance}\")\n",
    "            \n",
    "name = input(\"Enter Your Name:\")\n",
    "bank_account = Bank_Acc(name)\n",
    "bank_account.welcome()\n",
    "while True:\n",
    "    user_requirement = int(input())\n",
    "    if user_requirement == 1:\n",
    "        print(bank_account.printcurrentbalance())\n",
    "    if user_requirement == 2:\n",
    "        user_amount_d = int(input(\"Enter Amount To Deposit:\"))\n",
    "        bank_account.deposit(user_amount_d)\n",
    "    if user_requirement == 3:\n",
    "        user_amount_w = int(input(\"Enter Amount To Withdraw:\"))\n",
    "        bank_account.withdraw(user_amount_w)\n",
    "    if user_requirement == 4:\n",
    "        break\n",
    "    print(bank_account.account_info())    "
   ]
  },
  {
   "cell_type": "code",
   "execution_count": null,
   "id": "4a866a5a",
   "metadata": {},
   "outputs": [],
   "source": []
  },
  {
   "cell_type": "code",
   "execution_count": null,
   "id": "dc8585e0",
   "metadata": {},
   "outputs": [],
   "source": []
  },
  {
   "cell_type": "code",
   "execution_count": null,
   "id": "1b7391b3",
   "metadata": {},
   "outputs": [],
   "source": []
  },
  {
   "cell_type": "code",
   "execution_count": null,
   "id": "1db671ce",
   "metadata": {},
   "outputs": [],
   "source": []
  },
  {
   "cell_type": "code",
   "execution_count": null,
   "id": "5e1bfacb",
   "metadata": {},
   "outputs": [],
   "source": []
  },
  {
   "cell_type": "code",
   "execution_count": null,
   "id": "7c389d2a",
   "metadata": {},
   "outputs": [],
   "source": []
  }
 ],
 "metadata": {
  "kernelspec": {
   "display_name": "Python 3 (ipykernel)",
   "language": "python",
   "name": "python3"
  },
  "language_info": {
   "codemirror_mode": {
    "name": "ipython",
    "version": 3
   },
   "file_extension": ".py",
   "mimetype": "text/x-python",
   "name": "python",
   "nbconvert_exporter": "python",
   "pygments_lexer": "ipython3",
   "version": "3.9.12"
  }
 },
 "nbformat": 4,
 "nbformat_minor": 5
}
