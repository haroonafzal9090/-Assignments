{
 "cells": [
  {
   "cell_type": "code",
   "execution_count": 19,
   "id": "405eaccf",
   "metadata": {},
   "outputs": [
    {
     "name": "stdout",
     "output_type": "stream",
     "text": [
      "Enter File Name:python\n",
      "Enter Section Name:B\n",
      "Enter Section Name:22\n",
      "File Open Successfully python_B_22.csv\n",
      "rollnumber  name  father name  email  phone\n",
      "Present Or Absent(P/A): A\n",
      "101  haroon  afzal  haroon.afzal352gmail.com  0215678910\n",
      "Present Or Absent(P/A): P\n",
      "102  moosa  zaheer  moosa.zaheer678gmail.com  0217890762\n",
      "Present Or Absent(P/A): P\n",
      "103  yahya  yaqoob  yahya.yaqoob988gmail.com  0217890872\n",
      "Present Or Absent(P/A): P\n",
      "104  azan  tariq  azan.tariq321gmail.com  0218765212\n",
      "Present Or Absent(P/A): P\n",
      "105  ammad  imran ammad909gmail.com  021654321\n",
      "Present Or Absent(P/A): A\n",
      "[['rollnumber', ' name', ' father name', ' email', ' phone'], ['105', ' ammad', ' imran', 'ammad909gmail.com', ' 021654321']]\n"
     ]
    }
   ],
   "source": [
    "import csv\n",
    "from datetime import datetime\n",
    "\n",
    "\n",
    "file = input(\"Enter File Name:\")\n",
    "section = input(\"Enter Section Name:\")\n",
    "year = input(\"Enter Section Name:\")\n",
    "file_name = file + \"_\" + section + \"_\" + year + \".csv\"\n",
    "try:\n",
    "    with open(file_name) as f:\n",
    "        csv_file = csv.reader(f, delimiter =\",\")\n",
    "        print(\"File Open Successfully\", file_name)\n",
    "        absent_list = []\n",
    "        for row_number, row in enumerate(csv_file):\n",
    "            roll_number = row[0]\n",
    "            name = row[1]\n",
    "            father_name = row[2]\n",
    "            email = row[3]\n",
    "            phone = row[4]\n",
    "            print(roll_number, name ,father_name, email, phone)\n",
    "            present_absent = input(\"Present Or Absent(P/A): \").upper()\n",
    "            if present_absent == \"A\":\n",
    "                absent_list.append([roll_number, name, father_name, email, phone])\n",
    "            else:\n",
    "                pass#Do NothinG\n",
    "        print(absent_list)\n",
    "        \n",
    "    with open(\"absent_python_B_22.csv\", \"w\", newline=\"\") as f:\n",
    "        csv_file = csv.writer(f, delimiter = \",\")\n",
    "        for i in absent_list:\n",
    "            csv_file.writerow(i)           \n",
    "except:\n",
    "    print(f\"This {file_name} file is not found.\")       "
   ]
  },
  {
   "cell_type": "code",
   "execution_count": 27,
   "id": "4793c89d",
   "metadata": {},
   "outputs": [
    {
     "name": "stdout",
     "output_type": "stream",
     "text": [
      "Enter File Name:python\n",
      "Enter Section Name:b\n",
      "Enter Section Name:22\n",
      "File Open Successfully python_b_22.csv\n",
      "rollnumber  name  father name  email  phone\n",
      "Present Or Absent(P/A): A\n",
      "101  haroon  afzal  haroon.afzal352@gmail.com  0215678910\n",
      "Present Or Absent(P/A): P\n",
      "102  moosa  zaheer  moosa.zaheer678@gmail.com  0217890762\n",
      "Present Or Absent(P/A): a\n",
      "103  yahya  yaqoob  yahya.yaqoob988@gmail.com  0217890872\n",
      "Present Or Absent(P/A): a\n",
      "104  azan  tariq  azan.tariq321@gmail.com  0218765212\n",
      "Present Or Absent(P/A): a\n",
      "105  ammad  imran ammad909@gmail.com  021654321\n",
      "Present Or Absent(P/A): a\n",
      "[['rollnumber', ' name', ' father name', ' email', ' phone'], ['102', ' moosa', ' zaheer', ' moosa.zaheer678@gmail.com', ' 0217890762'], ['103', ' yahya', ' yaqoob', ' yahya.yaqoob988@gmail.com', ' 0217890872'], ['104', ' azan', ' tariq', ' azan.tariq321@gmail.com', ' 0218765212'], ['105', ' ammad', ' imran', 'ammad909@gmail.com', ' 021654321']]\n",
      "absent students data saved in absent_python_b_22_13-10-2022.csv\n"
     ]
    }
   ],
   "source": [
    "import csv\n",
    "\n",
    "\n",
    "file = input(\"Enter File Name:\")\n",
    "section = input(\"Enter Section Name:\")\n",
    "year = input(\"Enter Section Name:\")\n",
    "file_name = file + \"_\" + section + \"_\" + year + \".csv\"\n",
    "try:\n",
    "    with open(file_name) as f:\n",
    "        csv_file = csv.reader(f, delimiter =\",\")\n",
    "        print(\"File Open Successfully\", file_name)\n",
    "        absent_list = []\n",
    "        for row_number, row in enumerate(csv_file):\n",
    "            roll_number = row[0]\n",
    "            name = row[1]\n",
    "            father_name = row[2]\n",
    "            email = row[3]\n",
    "            phone = row[4]\n",
    "            print(roll_number, name ,father_name, email, phone)\n",
    "            present_absent = input(\"Present Or Absent(P/A): \").upper()\n",
    "            if present_absent == \"A\":\n",
    "                absent_list.append([roll_number, name, father_name, email, phone])\n",
    "            else:\n",
    "                pass#Do NothinG\n",
    "        print(absent_list)        \n",
    "except:\n",
    "    print(f\"This {file_name} file is not found.\")   \n",
    "from datetime import datetime\n",
    "now = datetime.now()\n",
    "date_str = now.strftime(\"%d-%m-%Y\")\n",
    "absent_file = \"absent\" + \"_\" + file_name.replace(\".csv\", \"_\" + date_str + \".csv\")\n",
    "with open(absent_file, \"w\", newline=\"\") as f:\n",
    "    csv_file = csv.writer(f, delimiter =\",\")\n",
    "    for i in absent_list:\n",
    "        csv_file.writerow(i)\n",
    "print(\"absent students data saved in\", absent_file)        "
   ]
  },
  {
   "cell_type": "code",
   "execution_count": 23,
   "id": "bdc64057",
   "metadata": {},
   "outputs": [
    {
     "name": "stdout",
     "output_type": "stream",
     "text": [
      "2022-10-13 13:25:12.159461\n"
     ]
    }
   ],
   "source": [
    "from datetime import datetime\n",
    "now = datetime.now()\n",
    "print(now)"
   ]
  },
  {
   "cell_type": "code",
   "execution_count": null,
   "id": "f374be1a",
   "metadata": {},
   "outputs": [],
   "source": []
  }
 ],
 "metadata": {
  "kernelspec": {
   "display_name": "Python 3 (ipykernel)",
   "language": "python",
   "name": "python3"
  },
  "language_info": {
   "codemirror_mode": {
    "name": "ipython",
    "version": 3
   },
   "file_extension": ".py",
   "mimetype": "text/x-python",
   "name": "python",
   "nbconvert_exporter": "python",
   "pygments_lexer": "ipython3",
   "version": "3.9.12"
  }
 },
 "nbformat": 4,
 "nbformat_minor": 5
}
