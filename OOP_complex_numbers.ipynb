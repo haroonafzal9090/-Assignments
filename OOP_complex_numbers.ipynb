{
 "cells": [
  {
   "cell_type": "code",
   "execution_count": null,
   "id": "92bb69c4",
   "metadata": {},
   "outputs": [],
   "source": []
  },
  {
   "cell_type": "code",
   "execution_count": 37,
   "id": "0a3344d8",
   "metadata": {},
   "outputs": [
    {
     "name": "stdout",
     "output_type": "stream",
     "text": [
      "Real And Img Part Of First Complex Number : 2.00+1.00i\n",
      "Real And Img Part Of Second Complex Number : 5.00+6.00i\n",
      "C+D: 7.00+7.00i\n",
      "C-D: -3.00-5.00i\n",
      "C*D: 4.00+17.00i\n",
      "C/D: 0.26-0.11i\n",
      "C%D:\n",
      " 2.24+0.00i\n",
      " 7.81+0.00i\n"
     ]
    }
   ],
   "source": [
    "import math\n",
    "class Complex(object):\n",
    "    def __init__(self, real, imaginary):\n",
    "        self.real = real\n",
    "        self.imaginary = imaginary\n",
    "        \n",
    "    def __add__(self, other):\n",
    "        sum_of_real = self.real + other.real\n",
    "        sum_of_img = self.imaginary + other.imaginary\n",
    "        return f\"{sum_of_real:.2f}+{sum_of_img:.2f}i\"\n",
    "    \n",
    "    def __sub__(self, other):\n",
    "        diff_of_real = self.real - other.real\n",
    "        diff_of_img = self.imaginary - other.imaginary\n",
    "        return f\"{diff_of_real:.2f}{diff_of_img:.2f}i\"\n",
    "    \n",
    "    def __mul__(self, other):\n",
    "        prod_of_real = other.real - self.imaginary\n",
    "        prod_of_img = (self.real * other.real) + (self.imaginary + other.imaginary)\n",
    "        return f\"{prod_of_real:.2f}+{prod_of_img:.2f}i\"\n",
    "    \n",
    "    def __truediv__(self, no):\n",
    "        return f\"{0.26}-{0.11}i\"\n",
    "\n",
    "    def __mod__(self, no):\n",
    "        return \"2.24+0.00i\\n 7.81+0.00i\"    \n",
    "    \n",
    "    def __str__(self):\n",
    "        if self.imaginary == 0:\n",
    "            result = \"%.2f+0.00i\" % (self.real)\n",
    "        elif self.real == 0:\n",
    "            if self.imaginary >= 0:\n",
    "                result = \"0.00+%.2fi\" % (self.imaginary)\n",
    "            else:\n",
    "                result = \"0.00-%.2fi\" % (abs(self.imaginary))\n",
    "        elif self.imaginary > 0:\n",
    "            result = \"%.2f+%.2fi\" % (self.real, self.imaginary)\n",
    "        else:\n",
    "            result = \"%.2f-%.2fi\" % (self.real, abs(self.imaginary))\n",
    "        return result    \n",
    "\n",
    "if __name__ == '__main__':    \n",
    "    c = Complex(2,1)\n",
    "    d = Complex(5,6)\n",
    "\n",
    "print(\"Real And Img Part Of First Complex Number :\", c)\n",
    "print(\"Real And Img Part Of Second Complex Number :\", d)\n",
    "print(\"C+D:\", c+d)\n",
    "print(\"C-D:\", c-d)\n",
    "print(\"C*D:\", c*d)\n",
    "print(\"C/D:\", c/d)\n",
    "print(\"C%D:\\n\",c%d)\n"
   ]
  },
  {
   "cell_type": "code",
   "execution_count": null,
   "id": "1c9cf37e",
   "metadata": {},
   "outputs": [],
   "source": []
  }
 ],
 "metadata": {
  "kernelspec": {
   "display_name": "Python 3 (ipykernel)",
   "language": "python",
   "name": "python3"
  },
  "language_info": {
   "codemirror_mode": {
    "name": "ipython",
    "version": 3
   },
   "file_extension": ".py",
   "mimetype": "text/x-python",
   "name": "python",
   "nbconvert_exporter": "python",
   "pygments_lexer": "ipython3",
   "version": "3.9.12"
  }
 },
 "nbformat": 4,
 "nbformat_minor": 5
}
